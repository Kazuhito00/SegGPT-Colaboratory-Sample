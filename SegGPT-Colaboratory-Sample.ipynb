{
  "nbformat": 4,
  "nbformat_minor": 0,
  "metadata": {
    "colab": {
      "provenance": [],
      "gpuType": "T4"
    },
    "kernelspec": {
      "name": "python3",
      "display_name": "Python 3"
    },
    "language_info": {
      "name": "python"
    },
    "accelerator": "GPU"
  },
  "cells": [
    {
      "cell_type": "markdown",
      "source": [
        "# リポジトリクローン"
      ],
      "metadata": {
        "id": "IrpW1gNpAv6S"
      }
    },
    {
      "cell_type": "code",
      "execution_count": null,
      "metadata": {
        "id": "c9EdbmYG3TQQ"
      },
      "outputs": [],
      "source": [
        "!git clone https://github.com/baaivision/Painter\n",
        "%cd Painter/SegGPT/SegGPT_inference"
      ]
    },
    {
      "cell_type": "markdown",
      "source": [
        "# パッケージインストール"
      ],
      "metadata": {
        "id": "nbsEZu3wAyZj"
      }
    },
    {
      "cell_type": "code",
      "source": [
        "!pip install --upgrade -q timm\n",
        "!pip install -q fvcore\n",
        "!pip install -q fairscale\n",
        "!pip install -q 'git+https://github.com/facebookresearch/detectron2.git'"
      ],
      "metadata": {
        "id": "OxHLa8Ie5nzz"
      },
      "execution_count": null,
      "outputs": []
    },
    {
      "cell_type": "markdown",
      "source": [
        "# 重みダウンロード"
      ],
      "metadata": {
        "id": "pnaRFim2BMNo"
      }
    },
    {
      "cell_type": "code",
      "source": [
        "!wget https://huggingface.co/BAAI/SegGPT/resolve/main/seggpt_vit_large.pth -q"
      ],
      "metadata": {
        "id": "Lj6lRitK3nYm"
      },
      "execution_count": 3,
      "outputs": []
    },
    {
      "cell_type": "markdown",
      "source": [
        "# モデル読み込み"
      ],
      "metadata": {
        "id": "9vJNg5zdCIWk"
      }
    },
    {
      "cell_type": "code",
      "source": [
        "import torch\n",
        "from seggpt_inference import prepare_model\n",
        "\n",
        "torch.manual_seed(42)\n",
        "device = torch.device('cuda')  # or  'cpu'\n",
        "\n",
        "model = prepare_model(\n",
        "    'seggpt_vit_large.pth',\n",
        "    'seggpt_vit_large_patch16_input896x448',\n",
        "    'instance',\n",
        ").to(device)"
      ],
      "metadata": {
        "id": "R3TZ4cV6CQRX"
      },
      "execution_count": null,
      "outputs": []
    },
    {
      "cell_type": "code",
      "source": [
        "import cv2\n",
        "import numpy as np\n",
        "import torch.nn.functional as F\n",
        "\n",
        "from seggpt_engine import run_one_image\n",
        "\n",
        "# 推論用関数\n",
        "def run_inference(model, input_image, prompt_image, prompt_mask, input_shape=(448, 448)):\n",
        "    resize_width, resize_height = input_shape[0], input_shape[1]\n",
        "    original_size = (input_image.shape[1], input_image.shape[0])\n",
        "\n",
        "    # 前処理\n",
        "    input_image_ = cv2.cvtColor(input_image, cv2.COLOR_BGR2RGB)\n",
        "    input_image_ = cv2.resize(input_image_, (resize_width, resize_height)) / 255.0\n",
        "\n",
        "    prompt_image_ = cv2.cvtColor(prompt_image, cv2.COLOR_BGR2RGB)\n",
        "    prompt_image_ = cv2.resize(prompt_image_, (resize_width, resize_height)) / 255.0\n",
        "\n",
        "    prompt_mask_ = cv2.cvtColor(prompt_mask, cv2.COLOR_BGR2RGB)\n",
        "    prompt_mask_ = cv2.resize(prompt_mask_, (resize_width, resize_height), interpolation=cv2.INTER_NEAREST) / 255.0\n",
        "\n",
        "    # プロンプトマスクと入力マスクを結合\n",
        "    combined_mask = np.concatenate((prompt_mask_, prompt_mask_), axis=0)\n",
        "    # プロンプト画像と入力画像を結合\n",
        "    combined_image = np.concatenate((prompt_image_, input_image_), axis=0)\n",
        "\n",
        "    # 画像をImageNetの平均と標準偏差で正規化\n",
        "    imagenet_mean = np.array([0.485, 0.456, 0.406])\n",
        "    imagenet_std = np.array([0.229, 0.224, 0.225])\n",
        "    normalized_image = (combined_image - imagenet_mean) / imagenet_std\n",
        "    normalized_mask = (combined_mask - imagenet_mean) / imagenet_std\n",
        "\n",
        "    # SegGPTで推論を実行\n",
        "    output = run_one_image(\n",
        "        np.stack([normalized_image], axis=0),\n",
        "        np.stack([normalized_mask], axis=0),\n",
        "        model,\n",
        "        device,\n",
        "    )\n",
        "\n",
        "    # 出力を元の画像サイズにリサイズ\n",
        "    output = F.interpolate(\n",
        "        output[None, ...].permute(0, 3, 1, 2),\n",
        "        size=[original_size[1], original_size[0]],\n",
        "        mode='nearest',\n",
        "    ).permute(0, 2, 3, 1)[0].numpy()\n",
        "\n",
        "    return output"
      ],
      "metadata": {
        "id": "t2hoarwnUzAK"
      },
      "execution_count": 9,
      "outputs": []
    },
    {
      "cell_type": "markdown",
      "source": [
        "# サンプル画像での確認"
      ],
      "metadata": {
        "id": "J8i_xLTaNcwk"
      }
    },
    {
      "cell_type": "code",
      "source": [
        "import cv2\n",
        "from google.colab.patches import cv2_imshow\n",
        "\n",
        "# 入力画像\n",
        "input_image_path = 'examples/hmbb_2.jpg'\n",
        "input_image = cv2.imread(input_image_path)\n",
        "\n",
        "cv2_imshow(input_image)"
      ],
      "metadata": {
        "id": "ZHS5HBgBLhbI"
      },
      "execution_count": null,
      "outputs": []
    },
    {
      "cell_type": "code",
      "source": [
        "# 入力プロンプト画像とマスク指定\n",
        "input_prompt_image_path = 'examples/hmbb_1.jpg'\n",
        "input_prompt_mask_path = 'examples/hmbb_1_target.png'\n",
        "\n",
        "prompt_image = cv2.imread(input_prompt_image_path)\n",
        "prompt_mask = cv2.imread(input_prompt_mask_path)\n",
        "\n",
        "cv2_imshow(cv2.hconcat([prompt_image, prompt_mask]))"
      ],
      "metadata": {
        "id": "pC7Xw3OpNobL"
      },
      "execution_count": null,
      "outputs": []
    },
    {
      "cell_type": "code",
      "source": [
        "%%time\n",
        "\n",
        "# 推論\n",
        "result = run_inference(model, input_image, prompt_image, prompt_mask)"
      ],
      "metadata": {
        "id": "95zVFidTOWYN"
      },
      "execution_count": null,
      "outputs": []
    },
    {
      "cell_type": "code",
      "source": [
        "import copy\n",
        "\n",
        "# 結果確認\n",
        "debug_image = copy.deepcopy(input_image)\n",
        "debug_image = (debug_image * (0.6 * result / 255.0 + 0.4)).astype(np.uint8)\n",
        "cv2_imshow(debug_image)"
      ],
      "metadata": {
        "id": "3fpQGq4PVSpi"
      },
      "execution_count": null,
      "outputs": []
    },
    {
      "cell_type": "markdown",
      "source": [
        "# 別画像でテスト"
      ],
      "metadata": {
        "id": "KeQy_BNwW12Z"
      }
    },
    {
      "cell_type": "code",
      "source": [
        "!wget https://user0514.cdnw.net/shared/img/thumb/sakiphotoPAR541761180_TP_V4.jpg -O sample01.jpg -q\n",
        "!wget https://user0514.cdnw.net/shared/img/thumb/sakiphotoPAR541661179_TP_V4.jpg -O sample02.jpg -q\n",
        "!wget https://user0514.cdnw.net/shared/img/thumb/sakiphotoPAR542051187_TP_V4.jpg -O sample03.jpg -q"
      ],
      "metadata": {
        "id": "VLPqtRfgWxtW"
      },
      "execution_count": 15,
      "outputs": []
    },
    {
      "cell_type": "code",
      "source": [
        "!wget https://github.com/Kazuhito00/simple-annotation-on-colab/raw/main/colab_utils.py -q"
      ],
      "metadata": {
        "id": "Mj6xSBnoXwj7"
      },
      "execution_count": 17,
      "outputs": []
    },
    {
      "cell_type": "code",
      "source": [
        "sample_image01 = cv2.imread('sample01.jpg')\n",
        "sample_image02 = cv2.imread('sample02.jpg')\n",
        "sample_image03 = cv2.imread('sample03.jpg')"
      ],
      "metadata": {
        "id": "XHi2Z_kHb71u"
      },
      "execution_count": null,
      "outputs": []
    },
    {
      "cell_type": "code",
      "source": [
        "import colab_utils\n",
        "\n",
        "polygons = []\n",
        "colab_utils.annotate_polygon([cv2.cvtColor(sample_image01, cv2.COLOR_BGR2RGB)], polygon_storage_pointer=polygons)"
      ],
      "metadata": {
        "id": "PhvnaF4JBjdt"
      },
      "execution_count": null,
      "outputs": []
    },
    {
      "cell_type": "code",
      "source": [
        "mask_height, mask_width = sample_image01.shape[:2]\n",
        "sample_image01_mask = np.zeros((mask_height, mask_width), dtype=np.uint8)\n",
        "\n",
        "absolute_coords = (np.array(polygons) * [mask_width, mask_height]).astype(int)\n",
        "absolute_coords = absolute_coords.reshape((-1, 1, 2))\n",
        "cv2.fillPoly(sample_image01_mask, [absolute_coords], 255)\n",
        "\n",
        "sample_image01_mask = cv2.cvtColor(sample_image01_mask, cv2.COLOR_GRAY2BGR)"
      ],
      "metadata": {
        "id": "qDv-SH-sFSDp"
      },
      "execution_count": 72,
      "outputs": []
    },
    {
      "cell_type": "code",
      "source": [
        "# マスク生成結果確認\n",
        "debug_image = copy.deepcopy(sample_image01)\n",
        "debug_image = (debug_image * (0.6 * sample_image01_mask / 255.0 + 0.4)).astype(np.uint8)\n",
        "cv2_imshow(debug_image)"
      ],
      "metadata": {
        "id": "IA6WhOy-bMOS"
      },
      "execution_count": null,
      "outputs": []
    },
    {
      "cell_type": "code",
      "source": [
        "%%time\n",
        "\n",
        "# 推論\n",
        "result = run_inference(model, sample_image02, sample_image01, sample_image01_mask)"
      ],
      "metadata": {
        "id": "9om2A6osZgrh"
      },
      "execution_count": null,
      "outputs": []
    },
    {
      "cell_type": "code",
      "source": [
        "import copy\n",
        "\n",
        "# 結果確認\n",
        "debug_image = copy.deepcopy(sample_image02)\n",
        "debug_image = (debug_image * (0.6 * result / 255.0 + 0.4)).astype(np.uint8)\n",
        "cv2_imshow(debug_image)"
      ],
      "metadata": {
        "id": "BBHY8N9Sa-OM"
      },
      "execution_count": null,
      "outputs": []
    },
    {
      "cell_type": "code",
      "source": [
        "%%time\n",
        "\n",
        "# 推論\n",
        "result = run_inference(model, sample_image03, sample_image01, sample_image01_mask)"
      ],
      "metadata": {
        "id": "KISL1OFSbDA3"
      },
      "execution_count": null,
      "outputs": []
    },
    {
      "cell_type": "code",
      "source": [
        "import copy\n",
        "\n",
        "# 結果確認\n",
        "debug_image = copy.deepcopy(sample_image03)\n",
        "debug_image = (debug_image * (0.6 * result / 255.0 + 0.4)).astype(np.uint8)\n",
        "cv2_imshow(debug_image)"
      ],
      "metadata": {
        "id": "wtJ3unOubGWT"
      },
      "execution_count": null,
      "outputs": []
    }
  ]
}